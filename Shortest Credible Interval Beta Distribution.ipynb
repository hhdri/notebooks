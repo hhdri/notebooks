{
 "cells": [
  {
   "cell_type": "markdown",
   "id": "97d90d29-3ed7-4118-ba49-12698c647d95",
   "metadata": {},
   "source": [
    "# Shortest Credible Interval for Beta Distribution"
   ]
  },
  {
   "cell_type": "code",
   "execution_count": 7,
   "id": "893f60ac-559f-4065-b868-93ed623527a5",
   "metadata": {},
   "outputs": [],
   "source": [
    "import pandas as pd\n",
    "import numpy as np\n",
    "from scipy.stats import beta\n",
    "import matplotlib.pyplot as plt"
   ]
  },
  {
   "cell_type": "code",
   "execution_count": 182,
   "id": "83c28f6b-f635-4396-9edb-4bf8a07813eb",
   "metadata": {},
   "outputs": [],
   "source": [
    "def beta_ci(distribution_α, distribution_β, α=.05, num_samples=50, print_report=True, plot_report=True):\n",
    "    if α > .5:\n",
    "        raise ValueError('α should be less than 50%.')\n",
    "    \n",
    "    distribution = beta(distribution_α, distribution_β)\n",
    "    \n",
    "    lower_tails = np.linspace(0, α, num=num_samples)\n",
    "    upper_tails = α - lower_tails\n",
    "    \n",
    "    # The resulting interval will be [p, q]\n",
    "    ps = distribution.ppf(lower_tails)\n",
    "    qs = distribution.ppf(1 - upper_tails)\n",
    "    \n",
    "    interval_lengths = qs - ps\n",
    "        \n",
    "    report_df = pd.DataFrame({\n",
    "        'lower_tail': lower_tails,\n",
    "        'interval_start': ps,\n",
    "        'interval_end': qs,\n",
    "        'upper_tail': upper_tails,\n",
    "        'interval_length': interval_lengths\n",
    "    })\n",
    "    \n",
    "    if print_report:\n",
    "        print(report_df)\n",
    "    \n",
    "    _, shortest_ci = min(report_df.iterrows(), key=lambda x: x[1].interval_length)\n",
    "    symmetric_ci = distribution.ppf(np.array([α/2, 1-α/2]))\n",
    "    print('Shortest  CI: [{:.3f}, {:.3f}]'.format(shortest_ci.interval_start, shortest_ci.interval_end))\n",
    "    print('Symmetric CI: [{:.3f}, {:.3f}]'.format(symmetric_ci[0], symmetric_ci[1]))\n",
    "    \n",
    "    if plot_report:\n",
    "        plot_xs = np.linspace(0, 1, 101)\n",
    "        plot_ys = distribution.pdf(plot_xs)\n",
    "        plt.plot(plot_xs, plot_ys, label='Density')\n",
    "\n",
    "        segment_xs, segment_ys = np.array([shortest_ci.interval_start, shortest_ci.interval_end]), [0, 0]\n",
    "        plt.plot(segment_xs, segment_ys, 'b|-', alpha=.5, label='Shortest CI')\n",
    "        segment_xs, segment_ys = np.array([symmetric_ci[0], symmetric_ci[1]]), [0, 0]\n",
    "        plt.plot(segment_xs, segment_ys, 'r|-', alpha=.5, label='Symmetric CI')\n",
    "\n",
    "        plt.legend()"
   ]
  },
  {
   "cell_type": "code",
   "execution_count": 183,
   "id": "b4430e1f-e916-4a32-ab79-6a69f24520f5",
   "metadata": {},
   "outputs": [
    {
     "name": "stdout",
     "output_type": "stream",
     "text": [
      "    lower_tail  interval_start  interval_end  upper_tail  interval_length\n",
      "0        0.000        0.000000      0.923453       0.010         0.923453\n",
      "1        0.001        0.477842      0.925142       0.009         0.447300\n",
      "2        0.002        0.499384      0.926975       0.008         0.427590\n",
      "3        0.003        0.512679      0.928984       0.007         0.416305\n",
      "4        0.004        0.522452      0.931217       0.006         0.408765\n",
      "5        0.005        0.530242      0.933748       0.005         0.403506\n",
      "6        0.006        0.536750      0.936690       0.004         0.399940\n",
      "7        0.007        0.542358      0.940252       0.003         0.397894\n",
      "8        0.008        0.547297      0.944872       0.002         0.397575\n",
      "9        0.009        0.551718      0.951829       0.001         0.400111\n",
      "10       0.010        0.555726      1.000000       0.000         0.444274\n",
      "Shortest  CI: [0.547, 0.945]\n",
      "Symmetric CI: [0.530, 0.934]\n"
     ]
    },
    {
     "data": {
      "image/png": "[encoded data removed]",
      "text/plain": [
       "<Figure size 432x288 with 1 Axes>"
      ]
     },
     "metadata": {
      "needs_background": "light"
     },
     "output_type": "display_data"
    }
   ],
   "source": [
    "beta_ci(distribution_α=20, distribution_β=6, α=.01, num_samples=11, print_report=True, plot_report=True)"
   ]
  },
  {
   "cell_type": "code",
   "execution_count": null,
   "id": "2db3606d-a265-42b8-8724-c946a0e2a130",
   "metadata": {},
   "outputs": [],
   "source": []
  }
 ],
 "metadata": {
  "kernelspec": {
   "display_name": "Python 3 (ipykernel)",
   "language": "python",
   "name": "python3"
  },
  "language_info": {
   "codemirror_mode": {
    "name": "ipython",
    "version": 3
   },
   "file_extension": ".py",
   "mimetype": "text/x-python",
   "name": "python",
   "nbconvert_exporter": "python",
   "pygments_lexer": "ipython3",
   "version": "3.9.12"
  }
 },
 "nbformat": 4,
 "nbformat_minor": 5
}
